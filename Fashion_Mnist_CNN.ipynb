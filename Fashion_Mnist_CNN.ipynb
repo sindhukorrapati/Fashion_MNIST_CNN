{
  "nbformat": 4,
  "nbformat_minor": 0,
  "metadata": {
    "colab": {
      "name": "Fashion_Mnist_CNN.ipynb",
      "provenance": [],
      "collapsed_sections": []
    },
    "kernelspec": {
      "name": "python3",
      "display_name": "Python 3"
    }
  },
  "cells": [
    {
      "cell_type": "code",
      "metadata": {
        "id": "F8lBC3yQdnS3"
      },
      "source": [
        "import numpy as np\r\n",
        "import tensorflow as tf\r\n",
        "from tensorflow.keras.datasets import fashion_mnist\r\n",
        "import matplotlib.pyplot as plt\r\n",
        "from tensorflow.keras.models import Sequential\r\n",
        "from tensorflow.keras.layers import Dense,Conv2D,Flatten,MaxPooling2D\r\n",
        "from keras.utils import np_utils\r\n",
        "from sklearn.model_selection import train_test_split"
      ],
      "execution_count": 114,
      "outputs": []
    },
    {
      "cell_type": "code",
      "metadata": {
        "id": "0_jeQOBFiaKb"
      },
      "source": [
        "(x_train,y_train),(x_test,y_test)= fashion_mnist.load_data()"
      ],
      "execution_count": 115,
      "outputs": []
    },
    {
      "cell_type": "code",
      "metadata": {
        "colab": {
          "base_uri": "https://localhost:8080/"
        },
        "id": "kTQvian3ivul",
        "outputId": "f6bab48f-a544-42d4-858b-77a5808462e9"
      },
      "source": [
        "x_train.shape"
      ],
      "execution_count": 116,
      "outputs": [
        {
          "output_type": "execute_result",
          "data": {
            "text/plain": [
              "(60000, 28, 28)"
            ]
          },
          "metadata": {
            "tags": []
          },
          "execution_count": 116
        }
      ]
    },
    {
      "cell_type": "code",
      "metadata": {
        "colab": {
          "base_uri": "https://localhost:8080/"
        },
        "id": "RyKTHiQZjFC_",
        "outputId": "fef8bbd1-95b7-4029-a23c-719bc6e19058"
      },
      "source": [
        "y_train.shape"
      ],
      "execution_count": 117,
      "outputs": [
        {
          "output_type": "execute_result",
          "data": {
            "text/plain": [
              "(60000,)"
            ]
          },
          "metadata": {
            "tags": []
          },
          "execution_count": 117
        }
      ]
    },
    {
      "cell_type": "code",
      "metadata": {
        "colab": {
          "base_uri": "https://localhost:8080/",
          "height": 265
        },
        "id": "th83CiuxjLLW",
        "outputId": "1e0cd7d5-04eb-4a8d-ff54-d7538efe7d02"
      },
      "source": [
        "plt.imshow(x_train[15])\r\n",
        "plt.show()"
      ],
      "execution_count": 118,
      "outputs": [
        {
          "output_type": "display_data",
          "data": {
            "image/png": "[encoded data removed]",
            "text/plain": [
              "<Figure size 432x288 with 1 Axes>"
            ]
          },
          "metadata": {
            "tags": [],
            "needs_background": "light"
          }
        }
      ]
    },
    {
      "cell_type": "code",
      "metadata": {
        "colab": {
          "base_uri": "https://localhost:8080/"
        },
        "id": "LhG3A9JejULb",
        "outputId": "4df9fe09-b0fa-4dde-e655-5e9d279322fc"
      },
      "source": [
        "x_train[50]"
      ],
      "execution_count": 119,
      "outputs": [
        {
          "output_type": "execute_result",
          "data": {
            "text/plain": [
              "array([[  0,   0,   0,   0,   0,   0,   0,   0,   1,   0,   0,   9,   6,\n",
              "          0,   0,   0,  24,   0,   0,   0,   0,   0,   0,   0,   0,   0,\n",
              "          0,   0],\n",
              "       [  0,   0,   0,   0,   0,   0,   0,   0,   0,  67, 209, 231, 248,\n",
              "        252, 250, 253, 246, 206, 132,   0,   0,   0,   0,   0,   0,   0,\n",
              "          0,   0],\n",
              "       [  0,   0,   0,   0,   0,   0,   0,   0,   1, 227, 243, 234, 234,\n",
              "        248, 246, 238, 230, 234, 250, 126,   0,   0,   0,   0,   0,   0,\n",
              "          0,   0],\n",
              "       [  0,   0,   0,   0,   0,   0,   0,   0,  57, 231, 213, 227, 234,\n",
              "        232, 231, 235, 232, 218, 218, 222,   0,   0,   0,   0,   0,   0,\n",
              "          0,   0],\n",
              "       [  0,   0,   0,   0,   0,   0,   0,   0,  90, 239, 207, 213, 236,\n",
              "        235, 232, 232, 229, 210, 215, 207,   6,   0,   0,   0,   0,   0,\n",
              "          0,   0],\n",
              "       [  0,   0,   0,   0,   0,   0,   0,   0, 211, 245, 229, 197, 220,\n",
              "        221, 221, 222, 203, 221, 235, 222,  96,   0,   0,   0,   0,   0,\n",
              "          0,   0],\n",
              "       [  0,   0,   0,   0,   0,   0,   0,   0,  55, 154, 239, 213, 217,\n",
              "        218, 214, 215, 215, 199, 235, 167,  61,   0,   0,   0,   0,   0,\n",
              "          0,   0],\n",
              "       [  0,   0,   0,   0,   0,   0,   0,   0,   0,   0,  17, 238, 220,\n",
              "        221, 215, 210, 249,  98,   0,   0,   0,   0,   0,   0,   0,   0,\n",
              "          0,   0],\n",
              "       [  0,   0,   0,   0,   0,   0,   0,   0,   2,   0,   0, 225, 220,\n",
              "        214, 211, 215, 251, 112,   0,   2,   2,   0,   0,   0,   0,   0,\n",
              "          0,   0],\n",
              "       [  0,   0,   0,   0,   0,   0,   0,   0,   1,   0,   0, 208, 218,\n",
              "        218, 224, 210, 221, 100,   0,   4,   0,   0,   0,   0,   0,   0,\n",
              "          0,   0],\n",
              "       [  0,   0,   0,   0,   0,   0,   0,   0,   1,   0,  16, 213, 244,\n",
              "        255, 218, 204, 218, 143,   0,   1,   0,   0,   0,   0,   0,   0,\n",
              "          0,   0],\n",
              "       [  0,   0,   0,   0,   0,   0,   0,   0,   2,   0,  76, 232, 235,\n",
              "        234, 218, 211, 220, 223,   0,   0,   2,   0,   0,   0,   0,   0,\n",
              "          0,   0],\n",
              "       [  0,   0,   0,   0,   0,   0,   0,   0,   0,   0, 161, 225, 218,\n",
              "        218, 220, 206, 209, 213,  32,   0,   5,   0,   0,   0,   0,   0,\n",
              "          0,   0],\n",
              "       [  0,   0,   0,   0,   0,   0,   0,   0,   0,   0, 214, 218, 222,\n",
              "        221, 218, 210, 207, 217,  89,   0,   2,   0,   0,   0,   0,   0,\n",
              "          0,   0],\n",
              "       [  0,   0,   0,   0,   0,   0,   0,   0,   0,   0, 207, 211, 225,\n",
              "        218, 218, 209, 208, 217, 165,   0,   0,   0,   0,   0,   0,   0,\n",
              "          0,   0],\n",
              "       [  0,   0,   0,   0,   0,   0,   0,   0,   0,  44, 221, 206, 225,\n",
              "        218, 218, 210, 207, 215, 203,   0,   0,   0,   0,   0,   0,   0,\n",
              "          0,   0],\n",
              "       [  0,   0,   0,   0,   0,   0,   0,   0,   0,  79, 227, 204, 224,\n",
              "        222, 216, 211, 210, 210, 196,   0,   0,   0,   0,   0,   0,   0,\n",
              "          0,   0],\n",
              "       [  0,   0,   0,   0,   0,   0,   0,   0,   0, 103, 232, 203, 225,\n",
              "        222, 216, 211, 214, 208, 204,   0,   0,   0,   0,   0,   0,   0,\n",
              "          0,   0],\n",
              "       [  0,   0,   0,   0,   0,   0,   0,   0,   0, 137, 235, 203, 225,\n",
              "        222, 217, 210, 214, 209, 211,  15,   0,   0,   0,   0,   0,   0,\n",
              "          0,   0],\n",
              "       [  0,   0,   0,   0,   0,   0,   0,   0,   0, 167, 234, 202, 223,\n",
              "        223, 220, 210, 214, 209, 215,  44,   0,   0,   0,   0,   0,   0,\n",
              "          0,   0],\n",
              "       [  0,   0,   0,   0,   0,   0,   0,   0,   0, 185, 235, 203, 224,\n",
              "        224, 220, 210, 216, 213, 221,  66,   0,   0,   0,   0,   0,   0,\n",
              "          0,   0],\n",
              "       [  0,   0,   0,   0,   0,   0,   0,   0,   0, 197, 237, 193, 225,\n",
              "        224, 218, 209, 217, 213, 223,  88,   0,   0,   0,   0,   0,   0,\n",
              "          0,   0],\n",
              "       [  0,   0,   0,   0,   0,   0,   0,   0,   0, 224, 242, 189, 224,\n",
              "        227, 223, 209, 217, 214, 227,  91,   0,   0,   0,   0,   0,   0,\n",
              "          0,   0],\n",
              "       [  0,   0,   0,   0,   0,   0,   0,   0,   0, 241, 242, 193, 232,\n",
              "        234, 222, 211, 222, 217, 229, 100,   0,   0,   0,   0,   0,   0,\n",
              "          0,   0],\n",
              "       [  0,   0,   0,   0,   0,   0,   0,   0,   0, 213, 243, 197, 224,\n",
              "        221, 221, 213, 225, 222, 230, 115,   0,   0,   0,   0,   0,   0,\n",
              "          0,   0],\n",
              "       [  0,   0,   0,   0,   0,   0,   0,   0,   0, 224, 241, 210, 221,\n",
              "        220, 220, 216, 230, 224, 232, 112,   0,   0,   0,   0,   0,   0,\n",
              "          0,   0],\n",
              "       [  0,   0,   0,   0,   0,   0,   0,   0,   0, 243, 252, 215, 238,\n",
              "        235, 229, 228, 237, 229, 244, 129,   0,   0,   0,   0,   0,   0,\n",
              "          0,   0],\n",
              "       [  0,   0,   0,   0,   0,   0,   0,   0,   0, 204, 181, 199, 186,\n",
              "        185, 208, 206, 197, 209, 214,  86,   0,   0,   0,   0,   0,   0,\n",
              "          0,   0]], dtype=uint8)"
            ]
          },
          "metadata": {
            "tags": []
          },
          "execution_count": 119
        }
      ]
    },
    {
      "cell_type": "code",
      "metadata": {
        "colab": {
          "base_uri": "https://localhost:8080/",
          "height": 1000
        },
        "id": "AULLeU5il-Gu",
        "outputId": "aae7b07a-56b1-42e9-e051-bd72bf0dea04"
      },
      "source": [
        "for i in range(5):\r\n",
        "  plt.imshow(x_train[i],cmap='gray')\r\n",
        "  plt.show()\r\n"
      ],
      "execution_count": 120,
      "outputs": [
        {
          "output_type": "display_data",
          "data": {
            "image/png": "[encoded data removed]",
            "text/plain": [
              "<Figure size 432x288 with 1 Axes>"
            ]
          },
          "metadata": {
            "tags": [],
            "needs_background": "light"
          }
        },
        {
          "output_type": "display_data",
          "data": {
            "image/png": "[encoded data removed]",
            "text/plain": [
              "<Figure size 432x288 with 1 Axes>"
            ]
          },
          "metadata": {
            "tags": [],
            "needs_background": "light"
          }
        },
        {
          "output_type": "display_data",
          "data": {
            "image/png": "[encoded data removed]",
            "text/plain": [
              "<Figure size 432x288 with 1 Axes>"
            ]
          },
          "metadata": {
            "tags": [],
            "needs_background": "light"
          }
        },
        {
          "output_type": "display_data",
          "data": {
            "image/png": "[encoded data removed]",
            "text/plain": [
              "<Figure size 432x288 with 1 Axes>"
            ]
          },
          "metadata": {
            "tags": [],
            "needs_background": "light"
          }
        },
        {
          "output_type": "display_data",
          "data": {
            "image/png": "[encoded data removed]",
            "text/plain": [
              "<Figure size 432x288 with 1 Axes>"
            ]
          },
          "metadata": {
            "tags": [],
            "needs_background": "light"
          }
        }
      ]
    },
    {
      "cell_type": "code",
      "metadata": {
        "colab": {
          "base_uri": "https://localhost:8080/"
        },
        "id": "fhX-D3XVmctW",
        "outputId": "1b9634f9-04b0-4c32-a876-3b8f8104ea71"
      },
      "source": [
        "y_train"
      ],
      "execution_count": 121,
      "outputs": [
        {
          "output_type": "execute_result",
          "data": {
            "text/plain": [
              "array([9, 0, 0, ..., 3, 0, 5], dtype=uint8)"
            ]
          },
          "metadata": {
            "tags": []
          },
          "execution_count": 121
        }
      ]
    },
    {
      "cell_type": "code",
      "metadata": {
        "colab": {
          "base_uri": "https://localhost:8080/"
        },
        "id": "JX56iUVMmiE1",
        "outputId": "171403ed-bb9f-419d-e83b-720f1e9106ff"
      },
      "source": [
        "np.unique(y_train)"
      ],
      "execution_count": 122,
      "outputs": [
        {
          "output_type": "execute_result",
          "data": {
            "text/plain": [
              "array([0, 1, 2, 3, 4, 5, 6, 7, 8, 9], dtype=uint8)"
            ]
          },
          "metadata": {
            "tags": []
          },
          "execution_count": 122
        }
      ]
    },
    {
      "cell_type": "code",
      "metadata": {
        "id": "dUYex5EFlgU-"
      },
      "source": [
        "x_train=x_train/225\r\n",
        "x_test=x_test/225"
      ],
      "execution_count": 123,
      "outputs": []
    },
    {
      "cell_type": "code",
      "metadata": {
        "colab": {
          "base_uri": "https://localhost:8080/"
        },
        "id": "4xDrWvjKluY-",
        "outputId": "f6ad41a2-9003-4584-fd0e-3d46587ee3f6"
      },
      "source": [
        "x_train[1]"
      ],
      "execution_count": 124,
      "outputs": [
        {
          "output_type": "execute_result",
          "data": {
            "text/plain": [
              "array([[0.        , 0.        , 0.        , 0.        , 0.        ,\n",
              "        0.00444444, 0.        , 0.        , 0.        , 0.        ,\n",
              "        0.18222222, 0.83555556, 0.45777778, 0.24      , 0.21333333,\n",
              "        0.19111111, 0.38666667, 0.74666667, 0.59111111, 0.07111111,\n",
              "        0.        , 0.        , 0.        , 0.        , 0.        ,\n",
              "        0.        , 0.        , 0.        ],\n",
              "       [0.        , 0.        , 0.        , 0.00444444, 0.        ,\n",
              "        0.        , 0.        , 0.21777778, 0.60444444, 0.97333333,\n",
              "        0.96      , 1.01333333, 1.04888889, 1.13333333, 1.13333333,\n",
              "        1.13333333, 1.13333333, 0.96444444, 0.95555556, 1.12888889,\n",
              "        1.02666667, 0.71111111, 0.2       , 0.        , 0.        ,\n",
              "        0.        , 0.        , 0.        ],\n",
              "       [0.        , 0.        , 0.        , 0.        , 0.        ,\n",
              "        0.06222222, 0.78222222, 0.98666667, 0.99555556, 0.94222222,\n",
              "        0.90222222, 0.88      , 0.87111111, 0.88888889, 0.95555556,\n",
              "        0.90666667, 0.89777778, 0.89333333, 0.89333333, 0.89333333,\n",
              "        0.92888889, 0.96888889, 0.99555556, 0.72888889, 0.        ,\n",
              "        0.        , 0.        , 0.        ],\n",
              "       [0.        , 0.        , 0.        , 0.        , 0.        ,\n",
              "        0.83555556, 0.97333333, 0.88888889, 0.88      , 0.89777778,\n",
              "        0.88      , 0.88444444, 0.88444444, 0.89333333, 0.87111111,\n",
              "        0.88      , 0.88      , 0.88888889, 0.88888889, 0.88888889,\n",
              "        0.88888889, 0.89333333, 0.88888889, 1.        , 0.18222222,\n",
              "        0.        , 0.        , 0.        ],\n",
              "       [0.        , 0.        , 0.        , 0.        , 0.22666667,\n",
              "        0.97333333, 0.88444444, 0.90222222, 0.90222222, 0.94222222,\n",
              "        1.05777778, 1.10222222, 1.11111111, 1.08888889, 1.10666667,\n",
              "        1.09333333, 1.09777778, 1.12      , 1.10222222, 1.04444444,\n",
              "        0.92      , 0.90222222, 0.90222222, 0.98666667, 0.62222222,\n",
              "        0.        , 0.        , 0.        ],\n",
              "       [0.        , 0.        , 0.        , 0.        , 0.51555556,\n",
              "        1.00444444, 0.91555556, 0.90666667, 0.92      , 0.90666667,\n",
              "        0.44888889, 0.33333333, 0.20888889, 0.32444444, 0.21333333,\n",
              "        0.22222222, 0.2       , 0.22666667, 0.28      , 0.50222222,\n",
              "        0.98666667, 0.89777778, 0.91555556, 0.97777778, 0.99555556,\n",
              "        0.        , 0.        , 0.        ],\n",
              "       [0.        , 0.        , 0.        , 0.        , 0.88888889,\n",
              "        0.98666667, 0.92888889, 0.90222222, 0.95555556, 0.88888889,\n",
              "        0.        , 0.31111111, 0.43555556, 0.        , 0.45777778,\n",
              "        0.26222222, 0.30222222, 0.31555556, 0.21777778, 0.        ,\n",
              "        0.97333333, 0.91555556, 0.95111111, 0.93333333, 1.11111111,\n",
              "        0.16888889, 0.        , 0.        ],\n",
              "       [0.        , 0.        , 0.        , 0.        , 1.09777778,\n",
              "        0.96888889, 0.94222222, 0.93333333, 0.95555556, 0.95111111,\n",
              "        0.        , 1.12888889, 1.08      , 0.61777778, 1.13333333,\n",
              "        0.77333333, 1.11555556, 1.13333333, 0.91111111, 0.        ,\n",
              "        0.95555556, 0.96444444, 0.95111111, 0.92444444, 0.97777778,\n",
              "        0.42222222, 0.        , 0.        ],\n",
              "       [0.        , 0.        , 0.        , 0.2       , 1.00444444,\n",
              "        0.95111111, 0.95111111, 0.95555556, 0.99555556, 0.91111111,\n",
              "        0.        , 0.18666667, 0.15555556, 0.26666667, 0.07111111,\n",
              "        0.07555556, 0.05333333, 0.05777778, 0.31111111, 0.        ,\n",
              "        0.84      , 0.96      , 0.94222222, 0.91555556, 0.94222222,\n",
              "        0.69333333, 0.        , 0.        ],\n",
              "       [0.        , 0.        , 0.        , 0.72888889, 1.04444444,\n",
              "        0.95111111, 0.93777778, 0.97777778, 0.96      , 0.89333333,\n",
              "        0.23111111, 0.31555556, 0.39555556, 0.41777778, 0.36888889,\n",
              "        0.34666667, 0.31111111, 0.33777778, 0.40888889, 0.38666667,\n",
              "        0.91555556, 0.92      , 0.98666667, 0.94666667, 0.97333333,\n",
              "        0.92444444, 0.        , 0.        ],\n",
              "       [0.        , 0.        , 0.        , 0.47111111, 0.83111111,\n",
              "        0.99111111, 1.05333333, 1.10222222, 0.93777778, 0.88      ,\n",
              "        1.12      , 1.11111111, 1.10222222, 1.08888889, 1.10222222,\n",
              "        1.12      , 1.12444444, 1.11111111, 1.12      , 1.06222222,\n",
              "        0.89333333, 0.94222222, 1.        , 0.95555556, 0.85777778,\n",
              "        0.50222222, 0.        , 0.        ],\n",
              "       [0.        , 0.        , 0.        , 0.        , 0.        ,\n",
              "        0.07555556, 0.24      , 0.70666667, 0.98666667, 0.85777778,\n",
              "        0.92444444, 0.85333333, 0.87555556, 0.88888889, 0.88888889,\n",
              "        0.88888889, 0.88888889, 0.89333333, 0.90222222, 0.86666667,\n",
              "        0.93333333, 0.73333333, 0.        , 0.        , 0.        ,\n",
              "        0.        , 0.        , 0.        ],\n",
              "       [0.        , 0.        , 0.        , 0.        , 0.        ,\n",
              "        0.        , 0.        , 0.20888889, 1.        , 0.85333333,\n",
              "        0.95111111, 0.90222222, 0.91555556, 0.90666667, 0.90666667,\n",
              "        0.91111111, 0.91555556, 0.90666667, 0.94222222, 0.87555556,\n",
              "        0.96888889, 0.47555556, 0.        , 0.        , 0.        ,\n",
              "        0.        , 0.        , 0.        ],\n",
              "       [0.        , 0.        , 0.        , 0.        , 0.00444444,\n",
              "        0.02666667, 0.        , 0.20444444, 0.94222222, 0.86666667,\n",
              "        0.94222222, 0.89777778, 0.91555556, 0.91111111, 0.90666667,\n",
              "        0.91111111, 0.91555556, 0.90666667, 0.94222222, 0.88888889,\n",
              "        0.96888889, 0.40444444, 0.        , 0.01333333, 0.00444444,\n",
              "        0.        , 0.        , 0.        ],\n",
              "       [0.        , 0.        , 0.        , 0.        , 0.        ,\n",
              "        0.00444444, 0.        , 0.04888889, 0.87555556, 0.88444444,\n",
              "        0.91111111, 0.89777778, 0.91111111, 0.91555556, 0.90666667,\n",
              "        0.91111111, 0.92      , 0.90666667, 0.91111111, 0.91111111,\n",
              "        0.96888889, 0.34222222, 0.        , 0.02222222, 0.        ,\n",
              "        0.        , 0.        , 0.        ],\n",
              "       [0.        , 0.        , 0.        , 0.        , 0.        ,\n",
              "        0.01333333, 0.        , 0.00888889, 0.84888889, 0.88      ,\n",
              "        0.89333333, 0.91111111, 0.91555556, 0.91111111, 0.91111111,\n",
              "        0.91555556, 0.92888889, 0.91555556, 0.88444444, 0.92888889,\n",
              "        0.97333333, 0.32888889, 0.        , 0.02222222, 0.        ,\n",
              "        0.        , 0.        , 0.        ],\n",
              "       [0.        , 0.        , 0.        , 0.        , 0.        ,\n",
              "        0.00888889, 0.        , 0.        , 0.83555556, 0.87555556,\n",
              "        0.88888889, 0.92      , 0.92      , 0.90666667, 0.92      ,\n",
              "        0.92      , 0.93333333, 0.92444444, 0.88      , 0.92      ,\n",
              "        0.98222222, 0.32      , 0.        , 0.01777778, 0.        ,\n",
              "        0.        , 0.        , 0.        ],\n",
              "       [0.        , 0.        , 0.        , 0.        , 0.        ,\n",
              "        0.00888889, 0.        , 0.        , 0.95555556, 0.88      ,\n",
              "        0.90222222, 0.91555556, 0.92444444, 0.91111111, 0.92      ,\n",
              "        0.92      , 0.93333333, 0.92444444, 0.88888889, 0.89777778,\n",
              "        0.98666667, 0.33333333, 0.        , 0.01777778, 0.        ,\n",
              "        0.        , 0.        , 0.        ],\n",
              "       [0.        , 0.        , 0.        , 0.        , 0.        ,\n",
              "        0.00444444, 0.        , 0.        , 0.94222222, 0.88      ,\n",
              "        0.92888889, 0.91555556, 0.92888889, 0.91555556, 0.92444444,\n",
              "        0.92      , 0.93777778, 0.91555556, 0.91111111, 0.88      ,\n",
              "        0.98222222, 0.35555556, 0.        , 0.01333333, 0.        ,\n",
              "        0.        , 0.        , 0.        ],\n",
              "       [0.        , 0.        , 0.        , 0.        , 0.        ,\n",
              "        0.00444444, 0.        , 0.        , 0.90666667, 0.89333333,\n",
              "        0.91111111, 0.92444444, 0.92      , 0.91111111, 0.93777778,\n",
              "        0.91111111, 0.93333333, 0.93333333, 0.92888889, 0.86666667,\n",
              "        0.98222222, 0.42666667, 0.        , 0.01333333, 0.        ,\n",
              "        0.        , 0.        , 0.        ],\n",
              "       [0.        , 0.        , 0.        , 0.        , 0.        ,\n",
              "        0.00444444, 0.        , 0.        , 0.89777778, 0.89333333,\n",
              "        0.91111111, 0.92888889, 0.92      , 0.91111111, 0.94666667,\n",
              "        0.91555556, 0.93333333, 0.92888889, 0.93333333, 0.86222222,\n",
              "        0.96444444, 0.46666667, 0.        , 0.00888889, 0.        ,\n",
              "        0.        , 0.        , 0.        ],\n",
              "       [0.        , 0.        , 0.        , 0.        , 0.        ,\n",
              "        0.00444444, 0.        , 0.        , 0.90666667, 0.90666667,\n",
              "        0.91111111, 0.92444444, 0.92      , 0.91111111, 0.95555556,\n",
              "        0.92      , 0.93333333, 0.92444444, 0.93777778, 0.85777778,\n",
              "        0.94666667, 0.51111111, 0.        , 0.00888889, 0.        ,\n",
              "        0.        , 0.        , 0.        ],\n",
              "       [0.        , 0.        , 0.        , 0.        , 0.        ,\n",
              "        0.        , 0.        , 0.        , 0.90666667, 0.92      ,\n",
              "        0.92      , 0.92444444, 0.91555556, 0.91555556, 0.95555556,\n",
              "        0.93333333, 0.93333333, 0.92      , 0.94222222, 0.86666667,\n",
              "        0.93333333, 0.52444444, 0.        , 0.00888889, 0.        ,\n",
              "        0.        , 0.        , 0.        ],\n",
              "       [0.        , 0.        , 0.        , 0.        , 0.        ,\n",
              "        0.00444444, 0.        , 0.        , 0.88      , 0.92444444,\n",
              "        0.92444444, 0.92444444, 0.90666667, 0.92      , 0.94222222,\n",
              "        0.94222222, 0.93333333, 0.92      , 0.93777778, 0.87111111,\n",
              "        0.92      , 0.53777778, 0.        , 0.00444444, 0.        ,\n",
              "        0.        , 0.        , 0.        ],\n",
              "       [0.        , 0.        , 0.        , 0.        , 0.        ,\n",
              "        0.00444444, 0.        , 0.        , 0.88      , 0.93333333,\n",
              "        0.92      , 0.92444444, 0.91555556, 0.92888889, 0.94666667,\n",
              "        0.94222222, 0.93777778, 0.92      , 0.93333333, 0.87555556,\n",
              "        0.92      , 0.55111111, 0.        , 0.00444444, 0.        ,\n",
              "        0.        , 0.        , 0.        ],\n",
              "       [0.        , 0.        , 0.        , 0.        , 0.        ,\n",
              "        0.        , 0.        , 0.        , 0.76444444, 0.93333333,\n",
              "        0.90222222, 0.89333333, 0.88444444, 0.90666667, 0.92      ,\n",
              "        0.91111111, 0.90666667, 0.89333333, 0.91111111, 0.87555556,\n",
              "        0.91555556, 0.56444444, 0.        , 0.        , 0.        ,\n",
              "        0.        , 0.        , 0.        ],\n",
              "       [0.        , 0.        , 0.        , 0.        , 0.        ,\n",
              "        0.        , 0.        , 0.        , 0.83555556, 0.98222222,\n",
              "        0.95111111, 1.04      , 1.04888889, 1.05777778, 1.08444444,\n",
              "        1.08444444, 1.08444444, 1.06666667, 1.08      , 0.95111111,\n",
              "        0.99555556, 0.72      , 0.        , 0.00888889, 0.        ,\n",
              "        0.        , 0.        , 0.        ],\n",
              "       [0.        , 0.        , 0.        , 0.        , 0.        ,\n",
              "        0.00444444, 0.        , 0.        , 0.61777778, 0.64888889,\n",
              "        0.57777778, 0.6       , 0.6       , 0.60888889, 0.55555556,\n",
              "        0.55111111, 0.55555556, 0.53777778, 0.52888889, 0.50666667,\n",
              "        0.57777778, 0.33777778, 0.        , 0.        , 0.        ,\n",
              "        0.        , 0.        , 0.        ]])"
            ]
          },
          "metadata": {
            "tags": []
          },
          "execution_count": 124
        }
      ]
    },
    {
      "cell_type": "code",
      "metadata": {
        "id": "spE7nJ3rm7Tg"
      },
      "source": [
        "y_train=np_utils.to_categorical(y_train,10)\r\n",
        "y_test=np_utils.to_categorical(y_test,10)"
      ],
      "execution_count": 125,
      "outputs": []
    },
    {
      "cell_type": "code",
      "metadata": {
        "id": "ZYEH-HiWnW1k"
      },
      "source": [
        "x_train=x_train.reshape(x_train.shape[0],28,28,1)\r\n",
        "x_test=x_test.reshape(x_test.shape[0],28,28,1)"
      ],
      "execution_count": 126,
      "outputs": []
    },
    {
      "cell_type": "code",
      "metadata": {
        "colab": {
          "base_uri": "https://localhost:8080/"
        },
        "id": "W5GQZvMpnrbu",
        "outputId": "02822e11-eaf1-4753-c2c7-adf34d8d3859"
      },
      "source": [
        "x_train.shape"
      ],
      "execution_count": 127,
      "outputs": [
        {
          "output_type": "execute_result",
          "data": {
            "text/plain": [
              "(60000, 28, 28, 1)"
            ]
          },
          "metadata": {
            "tags": []
          },
          "execution_count": 127
        }
      ]
    },
    {
      "cell_type": "code",
      "metadata": {
        "colab": {
          "base_uri": "https://localhost:8080/"
        },
        "id": "tyavOFMonu3i",
        "outputId": "096bf6df-9e1f-45fd-96c9-9183e5f7866b"
      },
      "source": [
        "y_train[10]"
      ],
      "execution_count": 128,
      "outputs": [
        {
          "output_type": "execute_result",
          "data": {
            "text/plain": [
              "array([1., 0., 0., 0., 0., 0., 0., 0., 0., 0.], dtype=float32)"
            ]
          },
          "metadata": {
            "tags": []
          },
          "execution_count": 128
        }
      ]
    },
    {
      "cell_type": "code",
      "metadata": {
        "id": "c_sfXozJn4xz"
      },
      "source": [
        "model=Sequential()"
      ],
      "execution_count": 129,
      "outputs": []
    },
    {
      "cell_type": "code",
      "metadata": {
        "id": "L9bAgouvn74V"
      },
      "source": [
        "model.add(Conv2D(32,(3,3),activation='relu',input_shape=(28,28,1)))\r\n",
        "model.add(MaxPooling2D(2,2))\r\n",
        "model.add(Conv2D(16,(2,2),activation='relu'))\r\n",
        "model.add(MaxPooling2D(2,2))\r\n",
        "model.add(Flatten())\r\n",
        "model.add(Dense(32,activation='relu'))\r\n",
        "model.add(Dense(32,activation='relu'))\r\n",
        "model.add(Dense(10,activation='softmax'))\r\n"
      ],
      "execution_count": 130,
      "outputs": []
    },
    {
      "cell_type": "code",
      "metadata": {
        "colab": {
          "base_uri": "https://localhost:8080/"
        },
        "id": "ej-4KuC5rd-s",
        "outputId": "896ef86b-300d-415a-a3de-d7ac0ddbd8a8"
      },
      "source": [
        "model.summary()"
      ],
      "execution_count": 131,
      "outputs": [
        {
          "output_type": "stream",
          "text": [
            "Model: \"sequential_4\"\n",
            "_________________________________________________________________\n",
            "Layer (type)                 Output Shape              Param #   \n",
            "=================================================================\n",
            "conv2d_6 (Conv2D)            (None, 26, 26, 32)        320       \n",
            "_________________________________________________________________\n",
            "max_pooling2d_4 (MaxPooling2 (None, 13, 13, 32)        0         \n",
            "_________________________________________________________________\n",
            "conv2d_7 (Conv2D)            (None, 12, 12, 16)        2064      \n",
            "_________________________________________________________________\n",
            "max_pooling2d_5 (MaxPooling2 (None, 6, 6, 16)          0         \n",
            "_________________________________________________________________\n",
            "flatten_2 (Flatten)          (None, 576)               0         \n",
            "_________________________________________________________________\n",
            "dense_6 (Dense)              (None, 32)                18464     \n",
            "_________________________________________________________________\n",
            "dense_7 (Dense)              (None, 32)                1056      \n",
            "_________________________________________________________________\n",
            "dense_8 (Dense)              (None, 10)                330       \n",
            "=================================================================\n",
            "Total params: 22,234\n",
            "Trainable params: 22,234\n",
            "Non-trainable params: 0\n",
            "_________________________________________________________________\n"
          ],
          "name": "stdout"
        }
      ]
    },
    {
      "cell_type": "code",
      "metadata": {
        "id": "0g3ontSJrkFx"
      },
      "source": [
        "model.compile(loss = 'categorical_crossentropy',optimizer='adam',metrics='accuracy')\r\n"
      ],
      "execution_count": 135,
      "outputs": []
    },
    {
      "cell_type": "code",
      "metadata": {
        "colab": {
          "base_uri": "https://localhost:8080/"
        },
        "id": "sLsyZcWLr4iE",
        "outputId": "b098a0d0-3996-4d55-b6d8-68c3df8f870a"
      },
      "source": [
        "history=model.fit(x_train,y_train,batch_size=200,epochs=10)"
      ],
      "execution_count": 136,
      "outputs": [
        {
          "output_type": "stream",
          "text": [
            "Epoch 1/10\n",
            "300/300 [==============================] - 26s 85ms/step - loss: 1.0916 - accuracy: 0.6206\n",
            "Epoch 2/10\n",
            "300/300 [==============================] - 25s 84ms/step - loss: 0.4438 - accuracy: 0.8391\n",
            "Epoch 3/10\n",
            "300/300 [==============================] - 25s 84ms/step - loss: 0.3859 - accuracy: 0.8612\n",
            "Epoch 4/10\n",
            "300/300 [==============================] - 25s 85ms/step - loss: 0.3572 - accuracy: 0.8704\n",
            "Epoch 5/10\n",
            "300/300 [==============================] - 25s 84ms/step - loss: 0.3367 - accuracy: 0.8793\n",
            "Epoch 6/10\n",
            "300/300 [==============================] - 25s 84ms/step - loss: 0.3219 - accuracy: 0.8831\n",
            "Epoch 7/10\n",
            "300/300 [==============================] - 25s 84ms/step - loss: 0.3044 - accuracy: 0.8906\n",
            "Epoch 8/10\n",
            "300/300 [==============================] - 25s 84ms/step - loss: 0.2951 - accuracy: 0.8929\n",
            "Epoch 9/10\n",
            "300/300 [==============================] - 26s 85ms/step - loss: 0.2885 - accuracy: 0.8963\n",
            "Epoch 10/10\n",
            "300/300 [==============================] - 25s 85ms/step - loss: 0.2737 - accuracy: 0.9021\n"
          ],
          "name": "stdout"
        }
      ]
    },
    {
      "cell_type": "code",
      "metadata": {
        "colab": {
          "base_uri": "https://localhost:8080/"
        },
        "id": "hja0QPzysUdj",
        "outputId": "b31dcea8-a029-4f2d-c770-1e52ea1a24b7"
      },
      "source": [
        "model.evaluate(x_test,y_test)\r\n"
      ],
      "execution_count": 137,
      "outputs": [
        {
          "output_type": "stream",
          "text": [
            "313/313 [==============================] - 2s 7ms/step - loss: 0.3057 - accuracy: 0.8902\n"
          ],
          "name": "stdout"
        },
        {
          "output_type": "execute_result",
          "data": {
            "text/plain": [
              "[0.3057312071323395, 0.8902000188827515]"
            ]
          },
          "metadata": {
            "tags": []
          },
          "execution_count": 137
        }
      ]
    },
    {
      "cell_type": "code",
      "metadata": {
        "colab": {
          "base_uri": "https://localhost:8080/",
          "height": 265
        },
        "id": "Qwoy-Qqwsaok",
        "outputId": "cc6532fd-334a-4243-c12f-76e0360bf0a0"
      },
      "source": [
        "plt.plot(history.history['accuracy'])\r\n",
        "plt.show()\r\n"
      ],
      "execution_count": 139,
      "outputs": [
        {
          "output_type": "display_data",
          "data": {
            "image/png": "[encoded data removed]",
            "text/plain": [
              "<Figure size 432x288 with 1 Axes>"
            ]
          },
          "metadata": {
            "tags": [],
            "needs_background": "light"
          }
        }
      ]
    },
    {
      "cell_type": "code",
      "metadata": {
        "id": "--iOxpJPseWH"
      },
      "source": [
        "prediction = model.predict(x_test)\r\n"
      ],
      "execution_count": 140,
      "outputs": []
    },
    {
      "cell_type": "code",
      "metadata": {
        "colab": {
          "base_uri": "https://localhost:8080/"
        },
        "id": "JIn90XhUwXae",
        "outputId": "6391f5fd-8605-4d88-df78-d40805c13bb2"
      },
      "source": [
        "print(np.argmax(np.round(prediction[250])))\r\n"
      ],
      "execution_count": 148,
      "outputs": [
        {
          "output_type": "stream",
          "text": [
            "9\n"
          ],
          "name": "stdout"
        }
      ]
    },
    {
      "cell_type": "code",
      "metadata": {
        "colab": {
          "base_uri": "https://localhost:8080/",
          "height": 265
        },
        "id": "-AqOT-qgsjFD",
        "outputId": "8302a9fa-38bd-4bf7-a35a-34f6a367de29"
      },
      "source": [
        "plt.imshow(x_test[250].reshape(28,28),cmap = 'gray')\r\n",
        "plt.show()"
      ],
      "execution_count": 149,
      "outputs": [
        {
          "output_type": "display_data",
          "data": {
            "image/png": "[encoded data removed]",
            "text/plain": [
              "<Figure size 432x288 with 1 Axes>"
            ]
          },
          "metadata": {
            "tags": [],
            "needs_background": "light"
          }
        }
      ]
    }
  ]
}